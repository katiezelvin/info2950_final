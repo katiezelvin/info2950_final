{
 "cells": [
  {
   "cell_type": "markdown",
   "id": "cc7a3fb4",
   "metadata": {},
   "source": [
    "We are recleaning the data so we have the calculated distances between each of the origin and destination airports"
   ]
  },
  {
   "cell_type": "code",
   "execution_count": 48,
   "id": "35b33f6a",
   "metadata": {},
   "outputs": [],
   "source": [
    "import pandas as pd\n",
    "import numpy as np"
   ]
  },
  {
   "cell_type": "code",
   "execution_count": 55,
   "id": "05cb87fd",
   "metadata": {},
   "outputs": [],
   "source": [
    "p2_df = pd.read_csv('phase2_flight_data.csv')"
   ]
  },
  {
   "cell_type": "code",
   "execution_count": 56,
   "id": "1dcf36ac",
   "metadata": {},
   "outputs": [
    {
     "name": "stdout",
     "output_type": "stream",
     "text": [
      "0      12.742472\n",
      "1       7.972830\n",
      "2       5.790255\n",
      "3      25.295777\n",
      "4       6.357347\n",
      "         ...    \n",
      "995          NaN\n",
      "996          NaN\n",
      "997          NaN\n",
      "998          NaN\n",
      "999          NaN\n",
      "Name: airport_distance, Length: 1000, dtype: float64\n"
     ]
    }
   ],
   "source": [
    "p2_df['airport_distance'] = np.sqrt((p2_df['dest_longitude']-p2_df['origin_longitude'])**2 \n",
    "+ (p2_df['dest_latitude']-p2_df['origin_latitude'])**2)\n",
    "\n",
    "print(p2_df['airport_distance'])"
   ]
  },
  {
   "cell_type": "code",
   "execution_count": 57,
   "id": "11b4ad16",
   "metadata": {},
   "outputs": [
    {
     "name": "stdout",
     "output_type": "stream",
     "text": [
      "   Unnamed: 0  FlightDate                Airline Origin Dest  Cancelled  \\\n",
      "0      842041  2022-02-27   Delta Air Lines Inc.    JFK  ATL      False   \n",
      "1     3900870  2022-03-06  United Air Lines Inc.    SFO  PDX      False   \n",
      "2      491263  2022-04-13  SkyWest Airlines Inc.    DTW  MQT       True   \n",
      "3     1764177  2022-05-12  SkyWest Airlines Inc.    SJC  AUS      False   \n",
      "4     2924690  2022-01-06   Delta Air Lines Inc.    ATL  IND      False   \n",
      "\n",
      "   Diverted  CRSDepTime  DepTime  DepDelayMinutes  ...  DivAirportLandings  \\\n",
      "0     False        1900   1934.0             34.0  ...                   0   \n",
      "1     False        2235   2302.0             27.0  ...                   0   \n",
      "2     False        2145      NaN              NaN  ...                   0   \n",
      "3     False        1255   1450.0            115.0  ...                   0   \n",
      "4     False        1721   1725.0              4.0  ...                   0   \n",
      "\n",
      "     origin_city  origin_state  origin_latitude  origin_longitude  \\\n",
      "0       New York            NY        40.639751        -73.778926   \n",
      "1  San Francisco            CA        37.619002       -122.374843   \n",
      "2        Detroit            MI        42.212059        -83.348836   \n",
      "3       San Jose            CA        37.361862       -121.929009   \n",
      "4        Atlanta            GA        33.640444        -84.426944   \n",
      "\n",
      "      dest_city  dest_state  dest_latitude  dest_longitude  airport_distance  \n",
      "0       Atlanta          GA      33.640444      -84.426944         12.742472  \n",
      "1      Portland          OR      45.588722     -122.597500          7.972830  \n",
      "2           NaN         NaN      46.353639      -87.395361          5.790255  \n",
      "3        Austin          TX      30.194533      -97.669872         25.295777  \n",
      "4  Indianapolis          IN      39.717329      -86.294384          6.357347  \n",
      "\n",
      "[5 rows x 71 columns]\n"
     ]
    }
   ],
   "source": [
    "print(p2_df.head())"
   ]
  },
  {
   "cell_type": "code",
   "execution_count": null,
   "id": "9cb9df42",
   "metadata": {},
   "outputs": [],
   "source": []
  }
 ],
 "metadata": {
  "kernelspec": {
   "display_name": "Python 3 (ipykernel)",
   "language": "python",
   "name": "python3"
  },
  "language_info": {
   "codemirror_mode": {
    "name": "ipython",
    "version": 3
   },
   "file_extension": ".py",
   "mimetype": "text/x-python",
   "name": "python",
   "nbconvert_exporter": "python",
   "pygments_lexer": "ipython3",
   "version": "3.11.4"
  }
 },
 "nbformat": 4,
 "nbformat_minor": 5
}
