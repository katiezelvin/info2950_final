{
 "cells": [
  {
   "cell_type": "code",
   "execution_count": 2,
   "metadata": {},
   "outputs": [],
   "source": [
    "import pandas as pd\n",
    "import duckdb\n",
    "import matplotlib.pyplot as plt\n",
    "import numpy as np\n",
    "import seaborn as sns"
   ]
  },
  {
   "cell_type": "code",
   "execution_count": null,
   "metadata": {},
   "outputs": [],
   "source": [
    "df = pd.read_csv('Flights_2018_Modified (1).csv')\n",
    "unique = df['Origin'].unique()\n",
    "for airport in unique:\n",
    "    print(airport)"
   ]
  },
  {
   "cell_type": "code",
   "execution_count": 8,
   "metadata": {},
   "outputs": [
    {
     "data": {
      "text/plain": [
       "370"
      ]
     },
     "execution_count": 8,
     "metadata": {},
     "output_type": "execute_result"
    }
   ],
   "source": [
    "len(unique)"
   ]
  },
  {
   "cell_type": "code",
   "execution_count": 20,
   "metadata": {},
   "outputs": [
    {
     "name": "stdout",
     "output_type": "stream",
     "text": [
      "PSM\n",
      "USA\n",
      "BLV\n",
      "YKM\n",
      "AZA\n",
      "HGR\n",
      "IPT\n",
      "LNY\n",
      "CGI\n",
      "LBE\n",
      "CKB\n",
      "ECP\n",
      "PQI\n",
      "PGV\n",
      "SCK\n",
      "PBG\n",
      "OWB\n",
      "PVU\n",
      "ROP\n",
      "JHM\n",
      "OGD\n",
      "LCK\n",
      "EAR\n",
      "SLN\n",
      "UIN\n",
      "HVN\n",
      "PUW\n",
      "PRC\n",
      "LBL\n",
      "EAT\n",
      "ALW\n",
      "MKK\n",
      "HHH\n",
      "BKG\n",
      "STS\n",
      "OGS\n",
      "SFB\n",
      "BFF\n",
      "PGD\n",
      "YNG\n",
      "SWO\n",
      "DUT\n",
      "LBF\n",
      "IAG\n",
      "SBY\n"
     ]
    }
   ],
   "source": [
    "airports = pd.read_csv(\"airports.csv\")\n",
    "airport_list = airports['IATA']\n",
    "uniqueSet = set(unique)\n",
    "airport_list_set = set(airport_list)\n",
    "\n",
    "notInList = uniqueSet - airport_list_set\n",
    "# notInList = airport_list_set - uniqueSet\n",
    "# len(notInList)\n",
    "for airport in notInList:\n",
    "    print(airport)"
   ]
  },
  {
   "cell_type": "code",
   "execution_count": 6,
   "metadata": {},
   "outputs": [
    {
     "data": {
      "text/plain": [
       "2"
      ]
     },
     "execution_count": 6,
     "metadata": {},
     "output_type": "execute_result"
    }
   ],
   "source": [
    "#testing nunique\n",
    "x = {'col1': ['IAD', 'IAD', 'IAD', 'SYR', 'SYR', 'SYR']}\n",
    "test = pd.DataFrame(data=x)\n",
    "test['col1'].nunique()"
   ]
  },
  {
   "cell_type": "markdown",
   "metadata": {},
   "source": [
    "It is not realistic to be able to scrape 2018 weather data for 370 airports. Each location takes approximately 1.2 hours so it would take around 444 hours to scrape all data."
   ]
  }
 ],
 "metadata": {
  "kernelspec": {
   "display_name": "info2950",
   "language": "python",
   "name": "python3"
  },
  "language_info": {
   "codemirror_mode": {
    "name": "ipython",
    "version": 3
   },
   "file_extension": ".py",
   "mimetype": "text/x-python",
   "name": "python",
   "nbconvert_exporter": "python",
   "pygments_lexer": "ipython3",
   "version": "3.11.5"
  }
 },
 "nbformat": 4,
 "nbformat_minor": 2
}
